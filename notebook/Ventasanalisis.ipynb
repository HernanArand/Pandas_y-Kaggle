{
 "cells": [
  {
   "cell_type": "markdown",
   "metadata": {},
   "source": [
    "El objetivo de esta actividad es poner en práctica todos los conocimientos adquiridos sobre Pandas a través del análisis completo de un dataset. Los estudiantes deben aplicar técnicas de carga, exploración, limpieza, transformación, y agregación de datos para extraer insights valiosos. La actividad no incluye visualización de datos, enfocándose únicamente en el análisis y manipulación de datos con Pandas."
   ]
  },
  {
   "cell_type": "markdown",
   "metadata": {},
   "source": [
    "1.1. Carga el archivo CSV en un DataFrame de Pandas.\n",
    "1.2. Muestra las primeras 10 filas del DataFrame para confirmar que los datos se han cargado correctamente."
   ]
  },
  {
   "cell_type": "code",
   "execution_count": 1,
   "metadata": {},
   "outputs": [
    {
     "name": "stdout",
     "output_type": "stream",
     "text": [
      "Primeras 10 filas:\n",
      "    Invoice ID Branch       City Customer type  Gender  \\\n",
      "0  750-67-8428      A     Yangon        Member  Female   \n",
      "1  226-31-3081      C  Naypyitaw        Normal  Female   \n",
      "2  631-41-3108      A     Yangon        Normal    Male   \n",
      "3  123-19-1176      A     Yangon        Member    Male   \n",
      "4  373-73-7910      A     Yangon        Normal    Male   \n",
      "5  699-14-3026      C  Naypyitaw        Normal    Male   \n",
      "6  355-53-5943      A     Yangon        Member  Female   \n",
      "7  315-22-5665      C  Naypyitaw        Normal  Female   \n",
      "8  665-32-9167      A     Yangon        Member  Female   \n",
      "9  692-92-5582      B   Mandalay        Member  Female   \n",
      "\n",
      "             Product line  Unit price  Quantity   Tax 5%     Total       Date  \\\n",
      "0       Health and beauty       74.69         7  26.1415  548.9715   1/5/2019   \n",
      "1  Electronic accessories       15.28         5   3.8200   80.2200   3/8/2019   \n",
      "2      Home and lifestyle       46.33         7  16.2155  340.5255   3/3/2019   \n",
      "3       Health and beauty       58.22         8  23.2880  489.0480  1/27/2019   \n",
      "4       Sports and travel       86.31         7  30.2085  634.3785   2/8/2019   \n",
      "5  Electronic accessories       85.39         7  29.8865  627.6165  3/25/2019   \n",
      "6  Electronic accessories       68.84         6  20.6520  433.6920  2/25/2019   \n",
      "7      Home and lifestyle       73.56        10  36.7800  772.3800  2/24/2019   \n",
      "8       Health and beauty       36.26         2   3.6260   76.1460  1/10/2019   \n",
      "9      Food and beverages       54.84         3   8.2260  172.7460  2/20/2019   \n",
      "\n",
      "    Time      Payment    cogs  gross margin percentage  gross income  Rating  \n",
      "0  13:08      Ewallet  522.83                 4.761905       26.1415     9.1  \n",
      "1  10:29         Cash   76.40                 4.761905        3.8200     9.6  \n",
      "2  13:23  Credit card  324.31                 4.761905       16.2155     7.4  \n",
      "3  20:33      Ewallet  465.76                 4.761905       23.2880     8.4  \n",
      "4  10:37      Ewallet  604.17                 4.761905       30.2085     5.3  \n",
      "5  18:30      Ewallet  597.73                 4.761905       29.8865     4.1  \n",
      "6  14:36      Ewallet  413.04                 4.761905       20.6520     5.8  \n",
      "7  11:38      Ewallet  735.60                 4.761905       36.7800     8.0  \n",
      "8  17:15  Credit card   72.52                 4.761905        3.6260     7.2  \n",
      "9  13:27  Credit card  164.52                 4.761905        8.2260     5.9  \n"
     ]
    }
   ],
   "source": [
    "import pandas as pd\n",
    "df = pd.read_csv('../data/supermarket.csv')\n",
    "\n",
    "print('Primeras 10 filas:')\n",
    "print(df.head(10))"
   ]
  },
  {
   "cell_type": "markdown",
   "metadata": {},
   "source": [
    "2.1. Muestra las últimas 5 filas del DataFrame.\n",
    "2.2. Utiliza el método info() para obtener información general sobre el DataFrame, incluyendo el número de entradas, nombres de las columnas, tipos de datos y memoria utilizada.\n",
    "2.3. Genera estadísticas descriptivas del DataFrame utilizando el método describe()."
   ]
  },
  {
   "cell_type": "code",
   "execution_count": 2,
   "metadata": {},
   "outputs": [
    {
     "name": "stdout",
     "output_type": "stream",
     "text": [
      "\n",
      "Últimas 5 filas:\n",
      "      Invoice ID Branch       City Customer type  Gender         Product line  \\\n",
      "995  233-67-5758      C  Naypyitaw        Normal    Male    Health and beauty   \n",
      "996  303-96-2227      B   Mandalay        Normal  Female   Home and lifestyle   \n",
      "997  727-02-1313      A     Yangon        Member    Male   Food and beverages   \n",
      "998  347-56-2442      A     Yangon        Normal    Male   Home and lifestyle   \n",
      "999  849-09-3807      A     Yangon        Member  Female  Fashion accessories   \n",
      "\n",
      "     Unit price  Quantity   Tax 5%      Total       Date   Time  Payment  \\\n",
      "995       40.35         1   2.0175    42.3675  1/29/2019  13:46  Ewallet   \n",
      "996       97.38        10  48.6900  1022.4900   3/2/2019  17:16  Ewallet   \n",
      "997       31.84         1   1.5920    33.4320   2/9/2019  13:22     Cash   \n",
      "998       65.82         1   3.2910    69.1110  2/22/2019  15:33     Cash   \n",
      "999       88.34         7  30.9190   649.2990  2/18/2019  13:28     Cash   \n",
      "\n",
      "       cogs  gross margin percentage  gross income  Rating  \n",
      "995   40.35                 4.761905        2.0175     6.2  \n",
      "996  973.80                 4.761905       48.6900     4.4  \n",
      "997   31.84                 4.761905        1.5920     7.7  \n",
      "998   65.82                 4.761905        3.2910     4.1  \n",
      "999  618.38                 4.761905       30.9190     6.6  \n"
     ]
    }
   ],
   "source": [
    "# Mostrando las ultimas 5 filas\n",
    "print(\"\\nÚltimas 5 filas:\")\n",
    "print(df.tail(5))"
   ]
  },
  {
   "cell_type": "code",
   "execution_count": 3,
   "metadata": {},
   "outputs": [
    {
     "name": "stdout",
     "output_type": "stream",
     "text": [
      "\n",
      "Información del DataFrame:\n",
      "<class 'pandas.core.frame.DataFrame'>\n",
      "RangeIndex: 1000 entries, 0 to 999\n",
      "Data columns (total 17 columns):\n",
      " #   Column                   Non-Null Count  Dtype  \n",
      "---  ------                   --------------  -----  \n",
      " 0   Invoice ID               1000 non-null   object \n",
      " 1   Branch                   1000 non-null   object \n",
      " 2   City                     1000 non-null   object \n",
      " 3   Customer type            1000 non-null   object \n",
      " 4   Gender                   1000 non-null   object \n",
      " 5   Product line             1000 non-null   object \n",
      " 6   Unit price               1000 non-null   float64\n",
      " 7   Quantity                 1000 non-null   int64  \n",
      " 8   Tax 5%                   1000 non-null   float64\n",
      " 9   Total                    1000 non-null   float64\n",
      " 10  Date                     1000 non-null   object \n",
      " 11  Time                     1000 non-null   object \n",
      " 12  Payment                  1000 non-null   object \n",
      " 13  cogs                     1000 non-null   float64\n",
      " 14  gross margin percentage  1000 non-null   float64\n",
      " 15  gross income             1000 non-null   float64\n",
      " 16  Rating                   1000 non-null   float64\n",
      "dtypes: float64(7), int64(1), object(9)\n",
      "memory usage: 132.9+ KB\n",
      "None\n"
     ]
    }
   ],
   "source": [
    "print(\"\\nInformación del DataFrame:\")\n",
    "print(df.info())"
   ]
  },
  {
   "cell_type": "code",
   "execution_count": 4,
   "metadata": {},
   "outputs": [
    {
     "name": "stdout",
     "output_type": "stream",
     "text": [
      "\n",
      "Estadísticas descriptivas:\n",
      "        Unit price     Quantity       Tax 5%        Total        cogs  \\\n",
      "count  1000.000000  1000.000000  1000.000000  1000.000000  1000.00000   \n",
      "mean     55.672130     5.510000    15.379369   322.966749   307.58738   \n",
      "std      26.494628     2.923431    11.708825   245.885335   234.17651   \n",
      "min      10.080000     1.000000     0.508500    10.678500    10.17000   \n",
      "25%      32.875000     3.000000     5.924875   124.422375   118.49750   \n",
      "50%      55.230000     5.000000    12.088000   253.848000   241.76000   \n",
      "75%      77.935000     8.000000    22.445250   471.350250   448.90500   \n",
      "max      99.960000    10.000000    49.650000  1042.650000   993.00000   \n",
      "\n",
      "       gross margin percentage  gross income      Rating  \n",
      "count             1.000000e+03   1000.000000  1000.00000  \n",
      "mean              4.761905e+00     15.379369     6.97270  \n",
      "std               6.131498e-14     11.708825     1.71858  \n",
      "min               4.761905e+00      0.508500     4.00000  \n",
      "25%               4.761905e+00      5.924875     5.50000  \n",
      "50%               4.761905e+00     12.088000     7.00000  \n",
      "75%               4.761905e+00     22.445250     8.50000  \n",
      "max               4.761905e+00     49.650000    10.00000  \n"
     ]
    }
   ],
   "source": [
    "print(\"\\nEstadísticas descriptivas:\")\n",
    "print(df.describe())"
   ]
  },
  {
   "cell_type": "markdown",
   "metadata": {},
   "source": [
    "3.1. Identifica y maneja los datos faltantes utilizando técnicas apropiadas (relleno con valores estadísticos, interpolación, eliminación, etc.).\n",
    "3.2. Corrige los tipos de datos si es necesario (por ejemplo, convertir cadenas a fechas).\n",
    "3.3. Elimina duplicados si los hay."
   ]
  },
  {
   "cell_type": "code",
   "execution_count": 5,
   "metadata": {},
   "outputs": [
    {
     "name": "stdout",
     "output_type": "stream",
     "text": [
      "\n",
      "Valores nulos por columna:\n",
      "Invoice ID                 0\n",
      "Branch                     0\n",
      "City                       0\n",
      "Customer type              0\n",
      "Gender                     0\n",
      "Product line               0\n",
      "Unit price                 0\n",
      "Quantity                   0\n",
      "Tax 5%                     0\n",
      "Total                      0\n",
      "Date                       0\n",
      "Time                       0\n",
      "Payment                    0\n",
      "cogs                       0\n",
      "gross margin percentage    0\n",
      "gross income               0\n",
      "Rating                     0\n",
      "dtype: int64\n"
     ]
    }
   ],
   "source": [
    "# Identificación y manejo de valores faltantes\n",
    "print(\"\\nValores nulos por columna:\")\n",
    "print(df.isnull().sum())"
   ]
  },
  {
   "cell_type": "markdown",
   "metadata": {},
   "source": [
    "No posee valores nulos el dataset"
   ]
  },
  {
   "cell_type": "markdown",
   "metadata": {},
   "source": [
    "4.1. Crea nuevas columnas basadas en operaciones con las columnas existentes (por ejemplo, calcular ingresos a partir de ventas y precios).\n",
    "4.2. Normaliza o estandariza columnas si es necesario.\n",
    "4.3. Clasifica los datos en categorías relevantes."
   ]
  },
  {
   "cell_type": "code",
   "execution_count": 12,
   "metadata": {},
   "outputs": [
    {
     "name": "stdout",
     "output_type": "stream",
     "text": [
      "0      522.83\n",
      "1       76.40\n",
      "2      324.31\n",
      "3      465.76\n",
      "4      604.17\n",
      "        ...  \n",
      "995     40.35\n",
      "996    973.80\n",
      "997     31.84\n",
      "998     65.82\n",
      "999    618.38\n",
      "Name: Ingresos, Length: 1000, dtype: float64\n"
     ]
    }
   ],
   "source": [
    "# Crea una nueva columna 'Ingresos' calculada a partir de 'Ventas' y 'Precio'\n",
    "df['Ingresos'] = df['Quantity'] * df['Unit price']\n",
    "print(df['Ingresos'])"
   ]
  },
  {
   "cell_type": "code",
   "execution_count": 13,
   "metadata": {},
   "outputs": [
    {
     "name": "stdout",
     "output_type": "stream",
     "text": [
      "0      0.521616\n",
      "1      0.067387\n",
      "2      0.319628\n",
      "3      0.463549\n",
      "4      0.604377\n",
      "         ...   \n",
      "995    0.030707\n",
      "996    0.980465\n",
      "997    0.022049\n",
      "998    0.056622\n",
      "999    0.618835\n",
      "Name: Ingresos_normalizados, Length: 1000, dtype: float64\n"
     ]
    }
   ],
   "source": [
    "# Normalizar la columna 'Ingresos' a una escala de 0 a 1\n",
    "df['Ingresos_normalizados'] = (df['Ingresos'] - df['Ingresos'].min()) / (df['Ingresos'].max() - df['Ingresos'].min())\n",
    "print(df['Ingresos_normalizados'])"
   ]
  },
  {
   "cell_type": "code",
   "execution_count": 11,
   "metadata": {},
   "outputs": [
    {
     "name": "stdout",
     "output_type": "stream",
     "text": [
      "0       Alta\n",
      "1      Media\n",
      "2       Alta\n",
      "3       Alta\n",
      "4       Alta\n",
      "       ...  \n",
      "995     Baja\n",
      "996     Alta\n",
      "997     Baja\n",
      "998    Media\n",
      "999     Alta\n",
      "Name: Categoria_Ingresos, Length: 1000, dtype: category\n",
      "Categories (3, object): ['Baja' < 'Media' < 'Alta']\n"
     ]
    }
   ],
   "source": [
    "# Crear una columna de categorías en base a los ingresos\n",
    "df['Categoria_Ingresos'] = pd.cut(df['Ingresos'], bins=[0, 50, 200, float('inf')], labels=['Baja', 'Media', 'Alta'])\n",
    "print(df['Categoria_Ingresos'])\n"
   ]
  },
  {
   "cell_type": "markdown",
   "metadata": {},
   "source": [
    "5.1. Realiza agrupaciones de datos utilizando groupby para obtener insights específicos (por ejemplo, ventas por producto, ventas por región, etc.).\n",
    "5.2. Aplica funciones de agregación como sum, mean, count, min, max, std, y var.\n",
    "5.3. Utiliza el método apply para realizar operaciones más complejas y personalizadas.\n",
    "Documentación\n"
   ]
  },
  {
   "cell_type": "code",
   "execution_count": 14,
   "metadata": {},
   "outputs": [
    {
     "name": "stdout",
     "output_type": "stream",
     "text": [
      "\n",
      "Total de ingresos por producto:\n",
      "Product line\n",
      "Electronic accessories    54337.5315\n",
      "Fashion accessories       54305.8950\n",
      "Food and beverages        56144.8440\n",
      "Health and beauty         49193.7390\n",
      "Home and lifestyle        53861.9130\n",
      "Sports and travel         55122.8265\n",
      "Name: Total, dtype: float64\n"
     ]
    }
   ],
   "source": [
    "# Agrupación de datos por 'Producto' para obtener el total de ingresos\n",
    "ventas_por_producto = df.groupby('Product line')['Total'].sum()\n",
    "print(\"\\nTotal de ingresos por producto:\")\n",
    "print(ventas_por_producto)\n"
   ]
  },
  {
   "cell_type": "code",
   "execution_count": 15,
   "metadata": {},
   "outputs": [
    {
     "name": "stdout",
     "output_type": "stream",
     "text": [
      "\n",
      "Promedio de ventas y precio por tienda:\n",
      "           Quantity  Unit price        Total\n",
      "City                                        \n",
      "Mandalay   5.481928   55.659277  106197.6720\n",
      "Naypyitaw  5.582317   56.609024  110568.7065\n",
      "Yangon     5.467647   54.780853  106200.3705\n"
     ]
    }
   ],
   "source": [
    "# Promedio de ventas y precio por tienda\n",
    "resumen_tienda = df.groupby('City').agg({'Quantity': 'mean', 'Unit price': 'mean', 'Total': 'sum'})\n",
    "print(\"\\nPromedio de ventas y precio por tienda:\")\n",
    "print(resumen_tienda)\n"
   ]
  },
  {
   "cell_type": "code",
   "execution_count": 17,
   "metadata": {},
   "outputs": [
    {
     "name": "stdout",
     "output_type": "stream",
     "text": [
      "0      7.469\n",
      "1      0.000\n",
      "2      4.633\n",
      "3      5.822\n",
      "4      8.631\n",
      "       ...  \n",
      "995    0.000\n",
      "996    9.738\n",
      "997    0.000\n",
      "998    0.000\n",
      "999    8.834\n",
      "Name: Descuento, Length: 1000, dtype: float64\n"
     ]
    }
   ],
   "source": [
    "# Crear una columna de descuento usando una condición personalizada\n",
    "df['Descuento'] = df.apply(lambda row: row['Unit price'] * 0.1 if row['Categoria_Ingresos'] == 'Alta' else 0, axis=1)\n",
    "print(df['Descuento'])"
   ]
  },
  {
   "cell_type": "code",
   "execution_count": 18,
   "metadata": {},
   "outputs": [
    {
     "name": "stdout",
     "output_type": "stream",
     "text": [
      "    Invoice ID Branch       City Customer type  Gender  \\\n",
      "0  750-67-8428      A     Yangon        Member  Female   \n",
      "1  226-31-3081      C  Naypyitaw        Normal  Female   \n",
      "2  631-41-3108      A     Yangon        Normal    Male   \n",
      "3  123-19-1176      A     Yangon        Member    Male   \n",
      "4  373-73-7910      A     Yangon        Normal    Male   \n",
      "\n",
      "             Product line  Unit price  Quantity   Tax 5%     Total  ...  \\\n",
      "0       Health and beauty       74.69         7  26.1415  548.9715  ...   \n",
      "1  Electronic accessories       15.28         5   3.8200   80.2200  ...   \n",
      "2      Home and lifestyle       46.33         7  16.2155  340.5255  ...   \n",
      "3       Health and beauty       58.22         8  23.2880  489.0480  ...   \n",
      "4       Sports and travel       86.31         7  30.2085  634.3785  ...   \n",
      "\n",
      "    Time      Payment    cogs  gross margin percentage  gross income  Rating  \\\n",
      "0  13:08      Ewallet  522.83                 4.761905       26.1415     9.1   \n",
      "1  10:29         Cash   76.40                 4.761905        3.8200     9.6   \n",
      "2  13:23  Credit card  324.31                 4.761905       16.2155     7.4   \n",
      "3  20:33      Ewallet  465.76                 4.761905       23.2880     8.4   \n",
      "4  10:37      Ewallet  604.17                 4.761905       30.2085     5.3   \n",
      "\n",
      "   Ingresos  Ingresos_normalizados  Categoria_Ingresos Descuento  \n",
      "0    522.83               0.521616                Alta     7.469  \n",
      "1     76.40               0.067387               Media     0.000  \n",
      "2    324.31               0.319628                Alta     4.633  \n",
      "3    465.76               0.463549                Alta     5.822  \n",
      "4    604.17               0.604377                Alta     8.631  \n",
      "\n",
      "[5 rows x 21 columns]\n"
     ]
    }
   ],
   "source": [
    "print(df.head())\n"
   ]
  }
 ],
 "metadata": {
  "kernelspec": {
   "display_name": "base",
   "language": "python",
   "name": "python3"
  },
  "language_info": {
   "codemirror_mode": {
    "name": "ipython",
    "version": 3
   },
   "file_extension": ".py",
   "mimetype": "text/x-python",
   "name": "python",
   "nbconvert_exporter": "python",
   "pygments_lexer": "ipython3",
   "version": "3.12.4"
  }
 },
 "nbformat": 4,
 "nbformat_minor": 2
}
